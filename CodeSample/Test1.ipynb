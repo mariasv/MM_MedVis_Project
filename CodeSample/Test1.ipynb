{
 "cells": [
  {
   "cell_type": "code",
   "execution_count": 1,
   "metadata": {
    "collapsed": false
   },
   "outputs": [
    {
     "name": "stderr",
     "output_type": "stream",
     "text": [
      "C:\\Users\\Maria\\Anaconda3\\lib\\site-packages\\IPython\\kernel\\__init__.py:13: ShimWarning: The `IPython.kernel` package has been deprecated. You should import from ipykernel or jupyter_client instead.\n",
      "  \"You should import from ipykernel or jupyter_client instead.\", ShimWarning)\n",
      "C:\\Users\\Maria\\Anaconda3\\lib\\site-packages\\sklearn\\utils\\fixes.py:64: DeprecationWarning: inspect.getargspec() is deprecated, use inspect.signature() instead\n",
      "  if 'order' in inspect.getargspec(np.copy)[0]:\n"
     ]
    }
   ],
   "source": [
    "%matplotlib notebook\n",
    "%load_ext autoreload\n",
    "%reload_ext autoreload\n",
    "%autoreload 2\n",
    " \n",
    "import numpy as np\n",
    "import os\n",
    "import matplotlib.pyplot as plt\n",
    "import matplotlib\n",
    "import objdet.object_detector"
   ]
  },
  {
   "cell_type": "code",
   "execution_count": 12,
   "metadata": {
    "collapsed": false
   },
   "outputs": [],
   "source": [
    "def load_dataset(n_samples=30):\n",
    "    download_dir = r\"C:\\Users\\Maria\\Documents\\TU Delft\\Medical Visualization\\Proyecto Clinical Graphics\\Object_Detection_in_Medical_Images-2015-11-17\\Object Detection in Medical Images\\Images\"\n",
    "    boxes = np.load(os.path.join(download_dir, \"boxes.npy\"))[:n_samples]\n",
    "    images = []\n",
    "    for i in range(n_samples):\n",
    "        image = np.load(os.path.join(download_dir, \"image{0:03d}.npy\".format(i)))\n",
    "        images.append(image)\n",
    "    return boxes, images\n",
    "boxes, images = load_dataset()"
   ]
  },
  {
   "cell_type": "code",
   "execution_count": 3,
   "metadata": {
    "collapsed": false,
    "scrolled": false
   },
   "outputs": [],
   "source": [
    "for i, (box, img) in enumerate(zip(boxes, images)):\n",
    "    # plot image, contour and normal points\n",
    "    #fig, ax = plt.subplots()\n",
    "    #fig.suptitle(\"image {}\".format(i))\n",
    "    #ax.imshow(img.T, cmap=matplotlib.cm.gray)\n",
    "    #ax.plot(box[:, 0], box[:, 1], \"-\")\n",
    "    #ax.set_aspect('equal')\n",
    "    \n",
    "    if i == 5:  # use this to stop plotting after the i -th image, or remove to plot all images\n",
    "        break\n"
   ]
  },
  {
   "cell_type": "code",
   "execution_count": 121,
   "metadata": {
    "collapsed": false,
    "scrolled": false
   },
   "outputs": [
    {
     "name": "stdout",
     "output_type": "stream",
     "text": [
      "patches_coordinates[pick]=\n",
      "[[[  0  90]\n",
      "  [ 96  90]\n",
      "  [ 96 186]\n",
      "  [  0 186]]]\n",
      "patches_coordinates[pick]=\n",
      "[[[ 10 100]\n",
      "  [106 100]\n",
      "  [106 196]\n",
      "  [ 10 196]]]\n",
      "patches_coordinates[pick]=\n",
      "[[[  0 110]\n",
      "  [ 96 110]\n",
      "  [ 96 206]\n",
      "  [  0 206]]]\n",
      "patches_coordinates[pick]=\n",
      "[[[  0 110]\n",
      "  [ 96 110]\n",
      "  [ 96 206]\n",
      "  [  0 206]]]\n",
      "patches_coordinates[pick]=\n",
      "[[[  0 110]\n",
      "  [ 96 110]\n",
      "  [ 96 206]\n",
      "  [  0 206]]]\n",
      "patches_coordinates[pick]=\n",
      "[[[  0 110]\n",
      "  [ 96 110]\n",
      "  [ 96 206]\n",
      "  [  0 206]]]\n",
      "patches_coordinates[pick]=\n",
      "[[[  0 110]\n",
      "  [ 96 110]\n",
      "  [ 96 206]\n",
      "  [  0 206]]]\n",
      "patches_coordinates[pick]=\n",
      "[[[  0 110]\n",
      "  [ 96 110]\n",
      "  [ 96 206]\n",
      "  [  0 206]]]\n",
      "patches_coordinates[pick]=\n",
      "[[[ 10 110]\n",
      "  [106 110]\n",
      "  [106 206]\n",
      "  [ 10 206]]]\n",
      "patches_coordinates[pick]=\n",
      "[[[ 10 110]\n",
      "  [106 110]\n",
      "  [106 206]\n",
      "  [ 10 206]]]\n",
      "patches_coordinates[pick]=\n",
      "[[[ 10 110]\n",
      "  [106 110]\n",
      "  [106 206]\n",
      "  [ 10 206]]]\n",
      "patches_coordinates[pick]=\n",
      "[[[ 10 110]\n",
      "  [106 110]\n",
      "  [106 206]\n",
      "  [ 10 206]]]\n",
      "patches_coordinates[pick]=\n",
      "[[[ 10 110]\n",
      "  [106 110]\n",
      "  [106 206]\n",
      "  [ 10 206]]]\n",
      "patches_coordinates[pick]=\n",
      "[[[ 10 110]\n",
      "  [106 110]\n",
      "  [106 206]\n",
      "  [ 10 206]]]\n",
      "patches_coordinates[pick]=\n",
      "[[[ 10 110]\n",
      "  [106 110]\n",
      "  [106 206]\n",
      "  [ 10 206]]]\n",
      "patches_coordinates[pick]=\n",
      "[[[  0  90]\n",
      "  [ 96  90]\n",
      "  [ 96 186]\n",
      "  [  0 186]]]\n",
      "patches_coordinates[pick]=\n",
      "[[[ 10 100]\n",
      "  [106 100]\n",
      "  [106 196]\n",
      "  [ 10 196]]]\n",
      "patches_coordinates[pick]=\n",
      "[[[  0 110]\n",
      "  [ 96 110]\n",
      "  [ 96 206]\n",
      "  [  0 206]]]\n",
      "patches_coordinates[pick]=\n",
      "[[[  0 110]\n",
      "  [ 96 110]\n",
      "  [ 96 206]\n",
      "  [  0 206]]]\n",
      "patches_coordinates[pick]=\n",
      "[[[  0 110]\n",
      "  [ 96 110]\n",
      "  [ 96 206]\n",
      "  [  0 206]]]\n",
      "patches_coordinates[pick]=\n",
      "[[[  0 110]\n",
      "  [ 96 110]\n",
      "  [ 96 206]\n",
      "  [  0 206]]]\n",
      "patches_coordinates[pick]=\n",
      "[[[  0 110]\n",
      "  [ 96 110]\n",
      "  [ 96 206]\n",
      "  [  0 206]]]\n",
      "patches_coordinates[pick]=\n",
      "[[[  0 110]\n",
      "  [ 96 110]\n",
      "  [ 96 206]\n",
      "  [  0 206]]]\n",
      "patches_coordinates[pick]=\n",
      "[[[ 10 110]\n",
      "  [106 110]\n",
      "  [106 206]\n",
      "  [ 10 206]]]\n",
      "patches_coordinates[pick]=\n",
      "[[[ 10 110]\n",
      "  [106 110]\n",
      "  [106 206]\n",
      "  [ 10 206]]]\n",
      "patches_coordinates[pick]=\n",
      "[[[ 10 110]\n",
      "  [106 110]\n",
      "  [106 206]\n",
      "  [ 10 206]]]\n",
      "patches_coordinates[pick]=\n",
      "[[[ 10 110]\n",
      "  [106 110]\n",
      "  [106 206]\n",
      "  [ 10 206]]]\n",
      "patches_coordinates[pick]=\n",
      "[[[ 10 110]\n",
      "  [106 110]\n",
      "  [106 206]\n",
      "  [ 10 206]]]\n",
      "patches_coordinates[pick]=\n",
      "[[[ 10 110]\n",
      "  [106 110]\n",
      "  [106 206]\n",
      "  [ 10 206]]]\n",
      "patches_coordinates[pick]=\n",
      "[[[ 10 110]\n",
      "  [106 110]\n",
      "  [106 206]\n",
      "  [ 10 206]]]\n"
     ]
    },
    {
     "name": "stderr",
     "output_type": "stream",
     "text": [
      "C:\\Users\\Maria\\Anaconda3\\lib\\site-packages\\sklearn\\base.py:175: DeprecationWarning: inspect.getargspec() is deprecated, use inspect.signature() instead\n",
      "  args, varargs, kw, default = inspect.getargspec(init)\n",
      "C:\\Users\\Maria\\Anaconda3\\lib\\site-packages\\sklearn\\base.py:175: DeprecationWarning: inspect.getargspec() is deprecated, use inspect.signature() instead\n",
      "  args, varargs, kw, default = inspect.getargspec(init)\n",
      "C:\\Users\\Maria\\Anaconda3\\lib\\site-packages\\sklearn\\base.py:175: DeprecationWarning: inspect.getargspec() is deprecated, use inspect.signature() instead\n",
      "  args, varargs, kw, default = inspect.getargspec(init)\n",
      "C:\\Users\\Maria\\Anaconda3\\lib\\site-packages\\sklearn\\base.py:175: DeprecationWarning: inspect.getargspec() is deprecated, use inspect.signature() instead\n",
      "  args, varargs, kw, default = inspect.getargspec(init)\n",
      "C:\\Users\\Maria\\Anaconda3\\lib\\site-packages\\sklearn\\base.py:175: DeprecationWarning: inspect.getargspec() is deprecated, use inspect.signature() instead\n",
      "  args, varargs, kw, default = inspect.getargspec(init)\n",
      "C:\\Users\\Maria\\Anaconda3\\lib\\site-packages\\sklearn\\base.py:175: DeprecationWarning: inspect.getargspec() is deprecated, use inspect.signature() instead\n",
      "  args, varargs, kw, default = inspect.getargspec(init)\n",
      "C:\\Users\\Maria\\Anaconda3\\lib\\site-packages\\sklearn\\base.py:175: DeprecationWarning: inspect.getargspec() is deprecated, use inspect.signature() instead\n",
      "  args, varargs, kw, default = inspect.getargspec(init)\n",
      "C:\\Users\\Maria\\Anaconda3\\lib\\site-packages\\sklearn\\base.py:175: DeprecationWarning: inspect.getargspec() is deprecated, use inspect.signature() instead\n",
      "  args, varargs, kw, default = inspect.getargspec(init)\n",
      "C:\\Users\\Maria\\Anaconda3\\lib\\site-packages\\sklearn\\base.py:175: DeprecationWarning: inspect.getargspec() is deprecated, use inspect.signature() instead\n",
      "  args, varargs, kw, default = inspect.getargspec(init)\n",
      "C:\\Users\\Maria\\Anaconda3\\lib\\site-packages\\sklearn\\base.py:175: DeprecationWarning: inspect.getargspec() is deprecated, use inspect.signature() instead\n",
      "  args, varargs, kw, default = inspect.getargspec(init)\n",
      "C:\\Users\\Maria\\Anaconda3\\lib\\site-packages\\sklearn\\base.py:175: DeprecationWarning: inspect.getargspec() is deprecated, use inspect.signature() instead\n",
      "  args, varargs, kw, default = inspect.getargspec(init)\n",
      "C:\\Users\\Maria\\Anaconda3\\lib\\site-packages\\sklearn\\base.py:175: DeprecationWarning: inspect.getargspec() is deprecated, use inspect.signature() instead\n",
      "  args, varargs, kw, default = inspect.getargspec(init)\n",
      "C:\\Users\\Maria\\Anaconda3\\lib\\site-packages\\sklearn\\base.py:175: DeprecationWarning: inspect.getargspec() is deprecated, use inspect.signature() instead\n",
      "  args, varargs, kw, default = inspect.getargspec(init)\n",
      "C:\\Users\\Maria\\Anaconda3\\lib\\site-packages\\sklearn\\base.py:175: DeprecationWarning: inspect.getargspec() is deprecated, use inspect.signature() instead\n",
      "  args, varargs, kw, default = inspect.getargspec(init)\n",
      "C:\\Users\\Maria\\Anaconda3\\lib\\site-packages\\sklearn\\base.py:175: DeprecationWarning: inspect.getargspec() is deprecated, use inspect.signature() instead\n",
      "  args, varargs, kw, default = inspect.getargspec(init)\n",
      "C:\\Users\\Maria\\Anaconda3\\lib\\site-packages\\sklearn\\base.py:175: DeprecationWarning: inspect.getargspec() is deprecated, use inspect.signature() instead\n",
      "  args, varargs, kw, default = inspect.getargspec(init)\n",
      "C:\\Users\\Maria\\Anaconda3\\lib\\site-packages\\sklearn\\base.py:175: DeprecationWarning: inspect.getargspec() is deprecated, use inspect.signature() instead\n",
      "  args, varargs, kw, default = inspect.getargspec(init)\n",
      "C:\\Users\\Maria\\Anaconda3\\lib\\site-packages\\sklearn\\base.py:175: DeprecationWarning: inspect.getargspec() is deprecated, use inspect.signature() instead\n",
      "  args, varargs, kw, default = inspect.getargspec(init)\n",
      "C:\\Users\\Maria\\Anaconda3\\lib\\site-packages\\sklearn\\base.py:175: DeprecationWarning: inspect.getargspec() is deprecated, use inspect.signature() instead\n",
      "  args, varargs, kw, default = inspect.getargspec(init)\n",
      "C:\\Users\\Maria\\Anaconda3\\lib\\site-packages\\sklearn\\base.py:175: DeprecationWarning: inspect.getargspec() is deprecated, use inspect.signature() instead\n",
      "  args, varargs, kw, default = inspect.getargspec(init)\n",
      "C:\\Users\\Maria\\Anaconda3\\lib\\site-packages\\sklearn\\base.py:175: DeprecationWarning: inspect.getargspec() is deprecated, use inspect.signature() instead\n",
      "  args, varargs, kw, default = inspect.getargspec(init)\n",
      "C:\\Users\\Maria\\Anaconda3\\lib\\site-packages\\sklearn\\base.py:175: DeprecationWarning: inspect.getargspec() is deprecated, use inspect.signature() instead\n",
      "  args, varargs, kw, default = inspect.getargspec(init)\n",
      "C:\\Users\\Maria\\Anaconda3\\lib\\site-packages\\sklearn\\base.py:175: DeprecationWarning: inspect.getargspec() is deprecated, use inspect.signature() instead\n",
      "  args, varargs, kw, default = inspect.getargspec(init)\n",
      "C:\\Users\\Maria\\Anaconda3\\lib\\site-packages\\sklearn\\base.py:175: DeprecationWarning: inspect.getargspec() is deprecated, use inspect.signature() instead\n",
      "  args, varargs, kw, default = inspect.getargspec(init)\n",
      "C:\\Users\\Maria\\Anaconda3\\lib\\site-packages\\sklearn\\base.py:175: DeprecationWarning: inspect.getargspec() is deprecated, use inspect.signature() instead\n",
      "  args, varargs, kw, default = inspect.getargspec(init)\n",
      "C:\\Users\\Maria\\Anaconda3\\lib\\site-packages\\sklearn\\base.py:175: DeprecationWarning: inspect.getargspec() is deprecated, use inspect.signature() instead\n",
      "  args, varargs, kw, default = inspect.getargspec(init)\n",
      "C:\\Users\\Maria\\Anaconda3\\lib\\site-packages\\sklearn\\base.py:175: DeprecationWarning: inspect.getargspec() is deprecated, use inspect.signature() instead\n",
      "  args, varargs, kw, default = inspect.getargspec(init)\n",
      "C:\\Users\\Maria\\Anaconda3\\lib\\site-packages\\sklearn\\base.py:175: DeprecationWarning: inspect.getargspec() is deprecated, use inspect.signature() instead\n",
      "  args, varargs, kw, default = inspect.getargspec(init)\n",
      "C:\\Users\\Maria\\Anaconda3\\lib\\site-packages\\sklearn\\base.py:175: DeprecationWarning: inspect.getargspec() is deprecated, use inspect.signature() instead\n",
      "  args, varargs, kw, default = inspect.getargspec(init)\n",
      "C:\\Users\\Maria\\Anaconda3\\lib\\site-packages\\sklearn\\base.py:175: DeprecationWarning: inspect.getargspec() is deprecated, use inspect.signature() instead\n",
      "  args, varargs, kw, default = inspect.getargspec(init)\n",
      "C:\\Users\\Maria\\Anaconda3\\lib\\site-packages\\sklearn\\base.py:175: DeprecationWarning: inspect.getargspec() is deprecated, use inspect.signature() instead\n",
      "  args, varargs, kw, default = inspect.getargspec(init)\n",
      "C:\\Users\\Maria\\Anaconda3\\lib\\site-packages\\sklearn\\base.py:175: DeprecationWarning: inspect.getargspec() is deprecated, use inspect.signature() instead\n",
      "  args, varargs, kw, default = inspect.getargspec(init)\n",
      "C:\\Users\\Maria\\Anaconda3\\lib\\site-packages\\sklearn\\base.py:175: DeprecationWarning: inspect.getargspec() is deprecated, use inspect.signature() instead\n",
      "  args, varargs, kw, default = inspect.getargspec(init)\n",
      "C:\\Users\\Maria\\Anaconda3\\lib\\site-packages\\sklearn\\base.py:175: DeprecationWarning: inspect.getargspec() is deprecated, use inspect.signature() instead\n",
      "  args, varargs, kw, default = inspect.getargspec(init)\n",
      "C:\\Users\\Maria\\Anaconda3\\lib\\site-packages\\sklearn\\base.py:175: DeprecationWarning: inspect.getargspec() is deprecated, use inspect.signature() instead\n",
      "  args, varargs, kw, default = inspect.getargspec(init)\n",
      "C:\\Users\\Maria\\Anaconda3\\lib\\site-packages\\sklearn\\base.py:175: DeprecationWarning: inspect.getargspec() is deprecated, use inspect.signature() instead\n",
      "  args, varargs, kw, default = inspect.getargspec(init)\n",
      "C:\\Users\\Maria\\Anaconda3\\lib\\site-packages\\sklearn\\base.py:175: DeprecationWarning: inspect.getargspec() is deprecated, use inspect.signature() instead\n",
      "  args, varargs, kw, default = inspect.getargspec(init)\n",
      "C:\\Users\\Maria\\Anaconda3\\lib\\site-packages\\sklearn\\base.py:175: DeprecationWarning: inspect.getargspec() is deprecated, use inspect.signature() instead\n",
      "  args, varargs, kw, default = inspect.getargspec(init)\n",
      "C:\\Users\\Maria\\Anaconda3\\lib\\site-packages\\sklearn\\base.py:175: DeprecationWarning: inspect.getargspec() is deprecated, use inspect.signature() instead\n",
      "  args, varargs, kw, default = inspect.getargspec(init)\n",
      "C:\\Users\\Maria\\Anaconda3\\lib\\site-packages\\sklearn\\base.py:175: DeprecationWarning: inspect.getargspec() is deprecated, use inspect.signature() instead\n",
      "  args, varargs, kw, default = inspect.getargspec(init)\n"
     ]
    }
   ],
   "source": [
    "select = 30\n",
    "select_images = images[:select]\n",
    "select_boxes = boxes[:select]\n",
    "\n",
    "split = 15\n",
    "train_images = select_images[:split]\n",
    "train_boxes = select_boxes[:split]\n",
    "test_images = select_images[split:]\n",
    "test_boxes = select_boxes[split:]\n",
    " \n",
    "detector = objdet.object_detector.ObjectDetectorHOG(patch_size=(96, 96), step_size=10, \n",
    "                                                    scale_fraction=0.0625, overlap_threshold=0.4,\n",
    "                                                    orientations=9, pixels_per_cell=(32, 32), \n",
    "                                                    cells_per_block=(3, 3))\n",
    "detector.fit(train_images, train_boxes, debug=False)\n",
    "predicted_boxes = detector.predict(test_images,debug=False)\n",
    "mean_score_prob,mean_score_nms = detector.score(test_images, test_boxes) "
   ]
  },
  {
   "cell_type": "code",
   "execution_count": 89,
   "metadata": {
    "collapsed": false
   },
   "outputs": [
    {
     "name": "stdout",
     "output_type": "stream",
     "text": [
      "sfdsaa\n"
     ]
    }
   ],
   "source": [
    "print('sfdsaa')"
   ]
  },
  {
   "cell_type": "code",
   "execution_count": 123,
   "metadata": {
    "collapsed": false
   },
   "outputs": [
    {
     "data": {
      "text/plain": [
       "0.56132355117849952"
      ]
     },
     "execution_count": 123,
     "metadata": {},
     "output_type": "execute_result"
    }
   ],
   "source": [
    "mean_score_prob"
   ]
  },
  {
   "cell_type": "code",
   "execution_count": 105,
   "metadata": {
    "collapsed": false
   },
   "outputs": [
    {
     "data": {
      "text/plain": [
       "array([70, 80, 90])"
      ]
     },
     "execution_count": 105,
     "metadata": {},
     "output_type": "execute_result"
    }
   ],
   "source": [
    "patches=np.array([[[ 0 ,70],  [96 , 70],  [ 96, 166],  [  0 ,166]], [[  0 , 80],  [ 96  ,80],  [ 96,176], [ 0, 176]],[[  0 , 90],  [ 96,  90],  [ 96 ,186],  [  0 ,186]]])\n",
    "patches[:,0][:,1]\n"
   ]
  },
  {
   "cell_type": "code",
   "execution_count": null,
   "metadata": {
    "collapsed": true
   },
   "outputs": [],
   "source": []
  }
 ],
 "metadata": {
  "kernelspec": {
   "display_name": "Python 3",
   "language": "python",
   "name": "python3"
  },
  "language_info": {
   "codemirror_mode": {
    "name": "ipython",
    "version": 3
   },
   "file_extension": ".py",
   "mimetype": "text/x-python",
   "name": "python",
   "nbconvert_exporter": "python",
   "pygments_lexer": "ipython3",
   "version": "3.5.0"
  }
 },
 "nbformat": 4,
 "nbformat_minor": 0
}
